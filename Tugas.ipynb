{
  "nbformat": 4,
  "nbformat_minor": 0,
  "metadata": {
    "colab": {
      "provenance": [],
      "toc_visible": true
    },
    "kernelspec": {
      "name": "python3",
      "display_name": "Python 3"
    },
    "language_info": {
      "name": "python"
    }
  },
  "cells": [
    {
      "cell_type": "markdown",
      "source": [
        "# Dataset trip"
      ],
      "metadata": {
        "id": "SSpaXOcxW-H9"
      }
    },
    {
      "cell_type": "code",
      "source": [
        "import pandas as pd\n",
        "\n",
        "# Memuat dataset\n",
        "file_path_trip = '/content/trip.csv'\n",
        "file_path_passenger = '/content/passenger.csv'\n",
        "file_path_city = '/content/city.csv'\n",
        "\n",
        "data_trip = pd.read_csv(file_path_trip)\n",
        "data_passenger = pd.read_csv(file_path_passenger)\n",
        "data_city = pd.read_csv(file_path_city)\n",
        "\n",
        "# Menampilkan nama kolom dari masing-masing dataset untuk verifikasi\n",
        "print(\"Nama Kolom Dataset Trip:\")\n",
        "print(data_trip.columns)\n",
        "\n",
        "print(\"\\nNama Kolom Dataset Passenger:\")\n",
        "print(data_passenger.columns)\n",
        "\n",
        "print(\"\\nNama Kolom Dataset City:\")\n",
        "print(data_city.columns)\n",
        "\n",
        "# Menggabungkan dataset\n",
        "# Gabungkan trip dengan passenger\n",
        "data_merged = pd.merge(data_trip, data_passenger, left_on='passenger_id', right_on='id', how='left')\n",
        "\n",
        "# Gabungkan hasilnya dengan city\n",
        "data_merged = pd.merge(data_merged, data_city, left_on='city_id', right_on='id', how='left')\n",
        "\n",
        "# Menampilkan beberapa baris pertama dari dataset gabungan\n",
        "print(\"\\nDataset Gabungan:\")\n",
        "print(data_merged.head())\n"
      ],
      "metadata": {
        "colab": {
          "base_uri": "https://localhost:8080/"
        },
        "id": "PRu1SSI4bP-6",
        "outputId": "e5067092-4647-4a05-fb76-0fd3ae9d017f"
      },
      "execution_count": 3,
      "outputs": [
        {
          "output_type": "stream",
          "name": "stdout",
          "text": [
            "Nama Kolom Dataset Trip:\n",
            "Index(['id', 'driver_id', 'passenger_id', 'city_id', 'call_time',\n",
            "       'finish_time', 'surge_rate', 'trip_distance', 'trip_fare'],\n",
            "      dtype='object')\n",
            "\n",
            "Nama Kolom Dataset Passenger:\n",
            "Index(['id', 'first_call_time'], dtype='object')\n",
            "\n",
            "Nama Kolom Dataset City:\n",
            "Index(['id', 'name'], dtype='object')\n",
            "\n",
            "Dataset Gabungan:\n",
            "       id_x driver_id passenger_id  city_id             call_time  \\\n",
            "0  a84c0db2  cb64172e     2ea4359d    43006  9/8/2019 10:01:28 PM   \n",
            "1  a84c2d10  3034e6fe     e1bd0c8d    43006   7/1/2019 8:56:28 PM   \n",
            "2  a84c3e75  93fb6802     75e6d450    43050  8/20/2019 9:30:46 PM   \n",
            "3  a84c3f6f  25fc9273     5ba48e89    43020   9/8/2019 2:42:41 AM   \n",
            "4  a84c5ce2  484c4d0c     fdb2ef59    43006  6/10/2019 9:29:18 AM   \n",
            "\n",
            "            finish_time  surge_rate  trip_distance  trip_fare      id_y  \\\n",
            "0  9/8/2019 10:15:54 PM         0.3           1.92       4.36  2ea4359d   \n",
            "1   7/1/2019 9:22:09 PM         0.0           9.36       6.91  e1bd0c8d   \n",
            "2  8/20/2019 9:46:48 PM         0.0           4.39       3.48  75e6d450   \n",
            "3   9/8/2019 2:59:56 AM         0.0           2.04       1.54  5ba48e89   \n",
            "4  6/10/2019 9:55:36 AM         0.0           7.37       5.83  fdb2ef59   \n",
            "\n",
            "         first_call_time     id          name  \n",
            "0  8/18/2018 10:56:35 AM  43006  Minas Tirith  \n",
            "1  4/16/2019 11:50:42 PM  43006  Minas Tirith  \n",
            "2   8/17/2018 1:51:01 AM  43050        Gondor  \n",
            "3   5/10/2019 5:35:30 AM  43020      Isengard  \n",
            "4   10/6/2018 8:35:16 PM  43006  Minas Tirith  \n"
          ]
        }
      ]
    },
    {
      "cell_type": "code",
      "source": [
        "# Menampilkan nama kolom dari masing-masing dataset\n",
        "print(\"Nama Kolom Dataset Trip:\")\n",
        "print(data_trip.columns)\n",
        "\n",
        "print(\"\\nNama Kolom Dataset Passenger:\")\n",
        "print(data_passenger.columns)\n",
        "\n",
        "print(\"\\nNama Kolom Dataset City:\")\n",
        "print(data_city.columns)\n"
      ],
      "metadata": {
        "colab": {
          "base_uri": "https://localhost:8080/"
        },
        "collapsed": true,
        "id": "mEqrlbcKbb_D",
        "outputId": "e124d9df-e039-4442-95c8-eb3735694dcb"
      },
      "execution_count": 4,
      "outputs": [
        {
          "output_type": "stream",
          "name": "stdout",
          "text": [
            "Nama Kolom Dataset Trip:\n",
            "Index(['id', 'driver_id', 'passenger_id', 'city_id', 'call_time',\n",
            "       'finish_time', 'surge_rate', 'trip_distance', 'trip_fare'],\n",
            "      dtype='object')\n",
            "\n",
            "Nama Kolom Dataset Passenger:\n",
            "Index(['id', 'first_call_time'], dtype='object')\n",
            "\n",
            "Nama Kolom Dataset City:\n",
            "Index(['id', 'name'], dtype='object')\n"
          ]
        }
      ]
    },
    {
      "cell_type": "code",
      "execution_count": 5,
      "metadata": {
        "id": "N9T1lVo-WIDi"
      },
      "outputs": [],
      "source": [
        "import pandas as pd\n"
      ]
    },
    {
      "cell_type": "code",
      "source": [
        "import pandas as pd\n",
        "import matplotlib.pyplot as plt\n",
        "import seaborn as sns\n"
      ],
      "metadata": {
        "id": "IFpFwGR4Xf-1"
      },
      "execution_count": 6,
      "outputs": []
    },
    {
      "cell_type": "code",
      "source": [
        "# Memuat dataset\n",
        "file_path = '/content/trip.csv'\n",
        "data = pd.read_csv(file_path)\n"
      ],
      "metadata": {
        "id": "oZQrQF8bWsim"
      },
      "execution_count": 7,
      "outputs": []
    },
    {
      "cell_type": "code",
      "source": [
        "import pandas as pd\n",
        "\n",
        "# Memuat dataset\n",
        "file_path = '/content/trip.csv'\n",
        "data = pd.read_csv(file_path)\n",
        "\n",
        "# Menampilkan 5 baris pertama dari dataset\n",
        "print(\"Data teratas dari dataset:\")\n",
        "print(data.head())\n"
      ],
      "metadata": {
        "colab": {
          "base_uri": "https://localhost:8080/"
        },
        "collapsed": true,
        "id": "REKBnG0_WunZ",
        "outputId": "ec5c0db0-93d2-433d-e5ac-43170d982bbb"
      },
      "execution_count": 8,
      "outputs": [
        {
          "output_type": "stream",
          "name": "stdout",
          "text": [
            "Data teratas dari dataset:\n",
            "         id driver_id passenger_id  city_id             call_time  \\\n",
            "0  a84c0db2  cb64172e     2ea4359d    43006  9/8/2019 10:01:28 PM   \n",
            "1  a84c2d10  3034e6fe     e1bd0c8d    43006   7/1/2019 8:56:28 PM   \n",
            "2  a84c3e75  93fb6802     75e6d450    43050  8/20/2019 9:30:46 PM   \n",
            "3  a84c3f6f  25fc9273     5ba48e89    43020   9/8/2019 2:42:41 AM   \n",
            "4  a84c5ce2  484c4d0c     fdb2ef59    43006  6/10/2019 9:29:18 AM   \n",
            "\n",
            "            finish_time  surge_rate  trip_distance  trip_fare  \n",
            "0  9/8/2019 10:15:54 PM         0.3           1.92       4.36  \n",
            "1   7/1/2019 9:22:09 PM         0.0           9.36       6.91  \n",
            "2  8/20/2019 9:46:48 PM         0.0           4.39       3.48  \n",
            "3   9/8/2019 2:59:56 AM         0.0           2.04       1.54  \n",
            "4  6/10/2019 9:55:36 AM         0.0           7.37       5.83  \n"
          ]
        }
      ]
    },
    {
      "cell_type": "code",
      "source": [
        "# Menampilkan kolom-kolom yang ada dalam dataset\n",
        "kolom_data = data.columns\n",
        "print(\"Kolom-kolom dalam dataset:\")\n",
        "print(kolom_data)\n"
      ],
      "metadata": {
        "colab": {
          "base_uri": "https://localhost:8080/"
        },
        "id": "4VAo_CWGWxsw",
        "outputId": "9efe0dee-23d1-404c-a06e-3b01fc80ba1f"
      },
      "execution_count": 9,
      "outputs": [
        {
          "output_type": "stream",
          "name": "stdout",
          "text": [
            "Kolom-kolom dalam dataset:\n",
            "Index(['id', 'driver_id', 'passenger_id', 'city_id', 'call_time',\n",
            "       'finish_time', 'surge_rate', 'trip_distance', 'trip_fare'],\n",
            "      dtype='object')\n"
          ]
        }
      ]
    },
    {
      "cell_type": "code",
      "source": [
        "# Menghitung jumlah kolom dalam dataset\n",
        "jumlah_kolom = len(data.columns)\n",
        "print(\"Jumlah kolom dalam dataset:\", jumlah_kolom)\n"
      ],
      "metadata": {
        "colab": {
          "base_uri": "https://localhost:8080/"
        },
        "id": "K5L_Y_ivXeKd",
        "outputId": "7c445550-f96e-48ea-c07b-82bb312580e6"
      },
      "execution_count": 10,
      "outputs": [
        {
          "output_type": "stream",
          "name": "stdout",
          "text": [
            "Jumlah kolom dalam dataset: 9\n"
          ]
        }
      ]
    },
    {
      "cell_type": "code",
      "source": [
        "# Menghitung jumlah data (baris) dalam dataset\n",
        "jumlah_data = data.shape[0]\n",
        "print(\"Jumlah data (baris) dalam dataset:\", jumlah_data)\n"
      ],
      "metadata": {
        "colab": {
          "base_uri": "https://localhost:8080/"
        },
        "id": "f0PsdgFEX4gZ",
        "outputId": "431c532a-9b2a-4965-d4b4-bd0c3a0395e0"
      },
      "execution_count": 11,
      "outputs": [
        {
          "output_type": "stream",
          "name": "stdout",
          "text": [
            "Jumlah data (baris) dalam dataset: 2318357\n"
          ]
        }
      ]
    },
    {
      "cell_type": "code",
      "source": [
        "# Menghitung jumlah perjalanan per kota\n",
        "jumlah_trip_per_kota = data['city_id'].value_counts()\n",
        "\n",
        "# Menampilkan kota dengan jumlah perjalanan tertinggi\n",
        "print(\"Jumlah perjalanan per kota:\")\n",
        "print(jumlah_trip_per_kota)\n"
      ],
      "metadata": {
        "colab": {
          "base_uri": "https://localhost:8080/"
        },
        "id": "1yCBTkeeYVZJ",
        "outputId": "3c7f8a20-2b12-4f4d-8302-31968d11e573"
      },
      "execution_count": 12,
      "outputs": [
        {
          "output_type": "stream",
          "name": "stdout",
          "text": [
            "Jumlah perjalanan per kota:\n",
            "city_id\n",
            "43278    489454\n",
            "43006    418895\n",
            "43179    388464\n",
            "43116    365397\n",
            "43020    337648\n",
            "43050    318499\n",
            "Name: count, dtype: int64\n"
          ]
        }
      ]
    },
    {
      "cell_type": "code",
      "source": [
        "# Mencari tarif rata-rata per kilometer\n",
        "data['fare_per_km'] = data['trip_fare'] / data['trip_distance']\n",
        "\n",
        "# Menampilkan tarif rata-rata per kilometer\n",
        "rata_tarif_per_km = data['fare_per_km'].mean()\n",
        "print(\"Rata-rata tarif per kilometer:\", rata_tarif_per_km)\n"
      ],
      "metadata": {
        "colab": {
          "base_uri": "https://localhost:8080/"
        },
        "id": "RGgKZqFjYclH",
        "outputId": "105726e5-743e-498f-d18a-5155a1d9b847"
      },
      "execution_count": 13,
      "outputs": [
        {
          "output_type": "stream",
          "name": "stdout",
          "text": [
            "Rata-rata tarif per kilometer: inf\n"
          ]
        }
      ]
    },
    {
      "cell_type": "code",
      "source": [
        "# Menghitung korelasi antara surge_rate dan trip_fare\n",
        "korelasi_surge_fare = data['surge_rate'].corr(data['trip_fare'])\n",
        "print(\"Korelasi antara surge rate dan trip fare:\", korelasi_surge_fare)\n"
      ],
      "metadata": {
        "colab": {
          "base_uri": "https://localhost:8080/"
        },
        "id": "vVqUenGdYgTu",
        "outputId": "4eee8a45-3abb-4a10-bebc-11b42657a69e"
      },
      "execution_count": 14,
      "outputs": [
        {
          "output_type": "stream",
          "name": "stdout",
          "text": [
            "Korelasi antara surge rate dan trip fare: 0.143398437216503\n"
          ]
        }
      ]
    },
    {
      "cell_type": "code",
      "source": [
        "# Menghitung jumlah trip per pengemudi dan penumpang\n",
        "trip_per_driver = data['driver_id'].value_counts()\n",
        "trip_per_passenger = data['passenger_id'].value_counts()\n",
        "\n",
        "# Menampilkan hasil\n",
        "print(\"Jumlah perjalanan per pengemudi:\")\n",
        "print(trip_per_driver.head(5))  # Menampilkan 5 pengemudi dengan perjalanan terbanyak\n",
        "print(\"\\nJumlah perjalanan per penumpang:\")\n",
        "print(trip_per_passenger.head(5))  # Menampilkan 5 penumpang dengan perjalanan terbanyak\n"
      ],
      "metadata": {
        "colab": {
          "base_uri": "https://localhost:8080/"
        },
        "id": "j9eZpO9eYi99",
        "outputId": "26450ee2-787b-4c1e-aadc-5b3db98dbbe4"
      },
      "execution_count": 15,
      "outputs": [
        {
          "output_type": "stream",
          "name": "stdout",
          "text": [
            "Jumlah perjalanan per pengemudi:\n",
            "driver_id\n",
            "e38a1cc4    197\n",
            "09a8b969    190\n",
            "0729b626    179\n",
            "a45b3264    178\n",
            "28925239    172\n",
            "Name: count, dtype: int64\n",
            "\n",
            "Jumlah perjalanan per penumpang:\n",
            "passenger_id\n",
            "67f26daa    48\n",
            "4852e02f    42\n",
            "a3197b57    41\n",
            "4736a390    39\n",
            "fc799e0f    37\n",
            "Name: count, dtype: int64\n"
          ]
        }
      ]
    },
    {
      "cell_type": "code",
      "source": [
        "# Scatter plot untuk menganalisis hubungan antara jarak dan tarif\n",
        "plt.figure(figsize=(10, 6))\n",
        "plt.scatter(data['trip_distance'], data['trip_fare'], alpha=0.5, color='purple')\n",
        "plt.title('Hubungan antara Jarak Tempuh dan Tarif Perjalanan')\n",
        "plt.xlabel('Jarak Tempuh (km)')\n",
        "plt.ylabel('Tarif Perjalanan')\n",
        "plt.show()\n"
      ],
      "metadata": {
        "colab": {
          "base_uri": "https://localhost:8080/",
          "height": 417
        },
        "id": "fO1py3ACZIz0",
        "outputId": "0bfe2a06-aeed-4b2e-af32-798318c53340"
      },
      "execution_count": 16,
      "outputs": [
        {
          "output_type": "display_data",
          "data": {
            "text/plain": [
              "<Figure size 1000x600 with 1 Axes>"
            ],
            "image/png": "[encoded data removed]"
          },
          "metadata": {}
        }
      ]
    },
    {
      "cell_type": "markdown",
      "source": [
        "# dataset:pasenger"
      ],
      "metadata": {
        "id": "h38ZmXW_XEUM"
      }
    },
    {
      "cell_type": "code",
      "source": [
        "# Langkah 1: Import library yang diperlukan\n",
        "import pandas as pd\n",
        "\n",
        "# Langkah 2: Load dataset\n",
        "# Menggunakan pd.read_csv untuk membaca file CSV\n",
        "file_path = '/content/passenger.csv'\n",
        "data = pd.read_csv(file_path)\n",
        "\n",
        "# Langkah 3: Menampilkan 5 baris pertama dari dataset\n",
        "print(\"Menampilkan 5 baris pertama dari dataset:\")\n",
        "print(data.head())\n"
      ],
      "metadata": {
        "colab": {
          "base_uri": "https://localhost:8080/"
        },
        "id": "H1673CHyW8ke",
        "outputId": "b4fc4b42-56ad-4008-8c4e-f6c787acc24e"
      },
      "execution_count": 17,
      "outputs": [
        {
          "output_type": "stream",
          "name": "stdout",
          "text": [
            "Menampilkan 5 baris pertama dari dataset:\n",
            "         id        first_call_time\n",
            "0  00000fab   5/11/2019 8:23:54 PM\n",
            "1  0000149d  12/24/2018 9:21:33 PM\n",
            "2  00002b66   9/20/2018 9:08:24 PM\n",
            "3  00002bc7  7/28/2019 11:27:56 AM\n",
            "4  0000332e  2/21/2019 11:34:24 PM\n"
          ]
        }
      ]
    },
    {
      "cell_type": "code",
      "source": [
        "# Menampilkan jumlah kolom\n",
        "num_columns = data.shape[1]\n",
        "print(f\"Jumlah kolom: {num_columns}\")"
      ],
      "metadata": {
        "colab": {
          "base_uri": "https://localhost:8080/"
        },
        "id": "z98EKYumZyCF",
        "outputId": "e4f75ac5-0984-4999-b0e3-90d83a307c76"
      },
      "execution_count": 18,
      "outputs": [
        {
          "output_type": "stream",
          "name": "stdout",
          "text": [
            "Jumlah kolom: 2\n"
          ]
        }
      ]
    },
    {
      "cell_type": "code",
      "source": [
        "# Menampilkan jumlah baris (data)\n",
        "num_rows = data.shape[0]\n",
        "print(f\"Jumlah data (baris): {num_rows}\")"
      ],
      "metadata": {
        "colab": {
          "base_uri": "https://localhost:8080/"
        },
        "id": "3NoEACAiaAOB",
        "outputId": "765f6619-61a0-4849-fee3-b5951a724f92"
      },
      "execution_count": 19,
      "outputs": [
        {
          "output_type": "stream",
          "name": "stdout",
          "text": [
            "Jumlah data (baris): 1235782\n"
          ]
        }
      ]
    },
    {
      "cell_type": "code",
      "source": [
        "# Menampilkan nama-nama kolom\n",
        "column_names = data.columns.tolist()\n",
        "print(\"Nama-nama kolom:\")\n",
        "print(column_names)"
      ],
      "metadata": {
        "colab": {
          "base_uri": "https://localhost:8080/"
        },
        "id": "aJ9MXiVxaC_K",
        "outputId": "e8adf00c-e9cd-4528-f3d7-d94de336c37a"
      },
      "execution_count": 20,
      "outputs": [
        {
          "output_type": "stream",
          "name": "stdout",
          "text": [
            "Nama-nama kolom:\n",
            "['id', 'first_call_time']\n"
          ]
        }
      ]
    },
    {
      "cell_type": "code",
      "source": [
        "unique_ids = data['id'].nunique()\n",
        "print(f\"Jumlah ID unik: {unique_ids}\")\n"
      ],
      "metadata": {
        "colab": {
          "base_uri": "https://localhost:8080/"
        },
        "id": "qtfY67q0aLn3",
        "outputId": "09e7785e-7d95-47a5-929a-be8821610b78"
      },
      "execution_count": 21,
      "outputs": [
        {
          "output_type": "stream",
          "name": "stdout",
          "text": [
            "Jumlah ID unik: 1235782\n"
          ]
        }
      ]
    },
    {
      "cell_type": "code",
      "source": [
        "duplicate_ids = data[data.duplicated(subset='id')].shape[0]\n",
        "print(f\"Jumlah duplikasi ID: {duplicate_ids}\")\n"
      ],
      "metadata": {
        "colab": {
          "base_uri": "https://localhost:8080/"
        },
        "id": "94ztMM-uaM0F",
        "outputId": "4eae9b3b-f70c-4dd0-a25f-71ef008d8e55"
      },
      "execution_count": 22,
      "outputs": [
        {
          "output_type": "stream",
          "name": "stdout",
          "text": [
            "Jumlah duplikasi ID: 0\n"
          ]
        }
      ]
    },
    {
      "cell_type": "code",
      "source": [
        "# Menghitung jumlah perjalanan per kota\n",
        "jumlah_perjalanan_per_kota = data_merged['name'].value_counts()\n",
        "print(\"\\nDistribusi Perjalanan per Kota:\")\n",
        "print(jumlah_perjalanan_per_kota)\n"
      ],
      "metadata": {
        "colab": {
          "base_uri": "https://localhost:8080/"
        },
        "id": "HlcTlffHbEuc",
        "outputId": "bcdb182d-bdda-4f98-818d-289195ce268d"
      },
      "execution_count": 23,
      "outputs": [
        {
          "output_type": "stream",
          "name": "stdout",
          "text": [
            "\n",
            "Distribusi Perjalanan per Kota:\n",
            "name\n",
            "The Shire       489454\n",
            "Minas Tirith    418895\n",
            "Rivendell       388464\n",
            "Rohan           365397\n",
            "Isengard        337648\n",
            "Gondor          318499\n",
            "Name: count, dtype: int64\n"
          ]
        }
      ]
    },
    {
      "cell_type": "code",
      "source": [
        "# Menghitung rata-rata tarif per kota\n",
        "rata_tarif_per_kota = data_merged.groupby('name')['trip_fare'].mean()\n",
        "print(\"\\nRata-rata Tarif Per Kota:\")\n",
        "print(rata_tarif_per_kota)\n"
      ],
      "metadata": {
        "colab": {
          "base_uri": "https://localhost:8080/"
        },
        "id": "G-qmUTeeb2Mn",
        "outputId": "bc02d07e-31f9-4483-e570-09b73f51cddd"
      },
      "execution_count": 24,
      "outputs": [
        {
          "output_type": "stream",
          "name": "stdout",
          "text": [
            "\n",
            "Rata-rata Tarif Per Kota:\n",
            "name\n",
            "Gondor          5.136079\n",
            "Isengard        5.553150\n",
            "Minas Tirith    4.974044\n",
            "Rivendell       5.671999\n",
            "Rohan           5.278823\n",
            "The Shire       4.998631\n",
            "Name: trip_fare, dtype: float64\n"
          ]
        }
      ]
    },
    {
      "cell_type": "code",
      "source": [
        "# Menghitung rata-rata tarif berdasarkan jenis penumpang dan kota\n",
        "rata_tarif_per_jenis_penumpang_kota = data_merged.groupby(['name', 'passenger_id'])['trip_fare'].mean().unstack()\n",
        "print(\"\\nRata-rata Tarif Berdasarkan Jenis Penumpang dan Kota:\")\n",
        "print(rata_tarif_per_jenis_penumpang_kota)\n"
      ],
      "metadata": {
        "collapsed": true,
        "colab": {
          "base_uri": "https://localhost:8080/"
        },
        "id": "VsDQTbRJb4ez",
        "outputId": "eb194b22-86bb-420f-969c-fffbe29d3b52"
      },
      "execution_count": 25,
      "outputs": [
        {
          "output_type": "stream",
          "name": "stdout",
          "text": [
            "\n",
            "Rata-rata Tarif Berdasarkan Jenis Penumpang dan Kota:\n",
            "passenger_id  00000fab  0000149d  00002b66  00002bc7  0000332e  00003af1  \\\n",
            "name                                                                       \n",
            "Gondor             NaN       NaN       NaN       NaN      3.83       NaN   \n",
            "Isengard           NaN       4.9     6.502      3.18       NaN       NaN   \n",
            "Minas Tirith      4.67       NaN       NaN       NaN       NaN       NaN   \n",
            "Rivendell          NaN       NaN       NaN       NaN       NaN      3.16   \n",
            "Rohan              NaN       NaN       NaN       NaN       NaN       NaN   \n",
            "The Shire          NaN       NaN       NaN       NaN       NaN       NaN   \n",
            "\n",
            "passenger_id  000048aa  0000497f  00004a41  000070ff  ...  ffff9750  ffff9f3c  \\\n",
            "name                                                  ...                       \n",
            "Gondor             NaN      4.45       NaN       NaN  ...       NaN      6.14   \n",
            "Isengard          7.62       NaN       NaN       NaN  ...      3.78       NaN   \n",
            "Minas Tirith       NaN       NaN       NaN       NaN  ...       NaN       NaN   \n",
            "Rivendell          NaN       NaN       NaN       NaN  ...       NaN       NaN   \n",
            "Rohan              NaN       NaN       NaN       NaN  ...       NaN       NaN   \n",
            "The Shire          NaN       NaN     21.59      2.84  ...       NaN       NaN   \n",
            "\n",
            "passenger_id  ffffb0c9  ffffb2a0  ffffb666  ffffc015  ffffc4f2  ffffcb5d  \\\n",
            "name                                                                       \n",
            "Gondor           5.255       NaN       NaN       NaN       NaN       NaN   \n",
            "Isengard           NaN       NaN       NaN       NaN       NaN       NaN   \n",
            "Minas Tirith       NaN       NaN       NaN       NaN       NaN       NaN   \n",
            "Rivendell          NaN       NaN       NaN       NaN      4.13       NaN   \n",
            "Rohan              NaN       NaN       NaN      5.92       NaN       NaN   \n",
            "The Shire          NaN      4.72     14.58       NaN       NaN      7.48   \n",
            "\n",
            "passenger_id  fffffa8e  fffffca2  \n",
            "name                              \n",
            "Gondor             NaN       NaN  \n",
            "Isengard           NaN       NaN  \n",
            "Minas Tirith       NaN       NaN  \n",
            "Rivendell          NaN       NaN  \n",
            "Rohan             2.29      5.65  \n",
            "The Shire          NaN       NaN  \n",
            "\n",
            "[6 rows x 1195765 columns]\n"
          ]
        }
      ]
    },
    {
      "cell_type": "code",
      "source": [
        "# Menghitung rata-rata surge rate per kota\n",
        "rata_surge_rate_per_kota = data_merged.groupby('name')['surge_rate'].mean()\n",
        "print(\"\\nRata-rata Surge Rate per Kota:\")\n",
        "print(rata_surge_rate_per_kota)\n"
      ],
      "metadata": {
        "colab": {
          "base_uri": "https://localhost:8080/"
        },
        "id": "poODTjpxb-CI",
        "outputId": "f82ae467-9c66-4feb-9fa6-812c97fcb3cd"
      },
      "execution_count": 26,
      "outputs": [
        {
          "output_type": "stream",
          "name": "stdout",
          "text": [
            "\n",
            "Rata-rata Surge Rate per Kota:\n",
            "name\n",
            "Gondor          0.055481\n",
            "Isengard        0.036011\n",
            "Minas Tirith    0.034939\n",
            "Rivendell       0.070741\n",
            "Rohan           0.059538\n",
            "The Shire       0.022856\n",
            "Name: surge_rate, dtype: float64\n"
          ]
        }
      ]
    },
    {
      "cell_type": "code",
      "source": [
        "import seaborn as sns\n",
        "import matplotlib.pyplot as plt\n",
        "\n",
        "# Scatter plot untuk hubungan antara jarak dan tarif berdasarkan kota\n",
        "plt.figure(figsize=(12, 8))\n",
        "sns.scatterplot(data=data_merged, x='trip_distance', y='trip_fare', hue='name', alpha=0.6)\n",
        "plt.title('Hubungan antara Jarak Tempuh dan Tarif Berdasarkan Kota')\n",
        "plt.xlabel('Jarak Tempuh (km)')\n",
        "plt.ylabel('Tarif Perjalanan')\n",
        "plt.legend(title='Kota', bbox_to_anchor=(1.05, 1), loc='upper left')\n",
        "plt.show()\n"
      ],
      "metadata": {
        "colab": {
          "base_uri": "https://localhost:8080/",
          "height": 369
        },
        "collapsed": true,
        "id": "dTFTqQFpcCZL",
        "outputId": "9f7787eb-694f-4856-8ada-b58d2f17d72b"
      },
      "execution_count": 27,
      "outputs": [
        {
          "output_type": "error",
          "ename": "KeyboardInterrupt",
          "evalue": "",
          "traceback": [
            "\u001b[0;31m---------------------------------------------------------------------------\u001b[0m",
            "\u001b[0;31mKeyboardInterrupt\u001b[0m                         Traceback (most recent call last)",
            "\u001b[0;32m<ipython-input-27-f16b64e95bb8>\u001b[0m in \u001b[0;36m<cell line: 11>\u001b[0;34m()\u001b[0m\n\u001b[1;32m      9\u001b[0m \u001b[0mplt\u001b[0m\u001b[0;34m.\u001b[0m\u001b[0mylabel\u001b[0m\u001b[0;34m(\u001b[0m\u001b[0;34m'Tarif Perjalanan'\u001b[0m\u001b[0;34m)\u001b[0m\u001b[0;34m\u001b[0m\u001b[0;34m\u001b[0m\u001b[0m\n\u001b[1;32m     10\u001b[0m \u001b[0mplt\u001b[0m\u001b[0;34m.\u001b[0m\u001b[0mlegend\u001b[0m\u001b[0;34m(\u001b[0m\u001b[0mtitle\u001b[0m\u001b[0;34m=\u001b[0m\u001b[0;34m'Kota'\u001b[0m\u001b[0;34m,\u001b[0m \u001b[0mbbox_to_anchor\u001b[0m\u001b[0;34m=\u001b[0m\u001b[0;34m(\u001b[0m\u001b[0;36m1.05\u001b[0m\u001b[0;34m,\u001b[0m \u001b[0;36m1\u001b[0m\u001b[0;34m)\u001b[0m\u001b[0;34m,\u001b[0m \u001b[0mloc\u001b[0m\u001b[0;34m=\u001b[0m\u001b[0;34m'upper left'\u001b[0m\u001b[0;34m)\u001b[0m\u001b[0;34m\u001b[0m\u001b[0;34m\u001b[0m\u001b[0m\n\u001b[0;32m---> 11\u001b[0;31m \u001b[0mplt\u001b[0m\u001b[0;34m.\u001b[0m\u001b[0mshow\u001b[0m\u001b[0;34m(\u001b[0m\u001b[0;34m)\u001b[0m\u001b[0;34m\u001b[0m\u001b[0;34m\u001b[0m\u001b[0m\n\u001b[0m",
            "\u001b[0;32m/usr/local/lib/python3.10/dist-packages/matplotlib/pyplot.py\u001b[0m in \u001b[0;36mshow\u001b[0;34m(*args, **kwargs)\u001b[0m\n\u001b[1;32m    444\u001b[0m     \"\"\"\n\u001b[1;32m    445\u001b[0m     \u001b[0m_warn_if_gui_out_of_main_thread\u001b[0m\u001b[0;34m(\u001b[0m\u001b[0;34m)\u001b[0m\u001b[0;34m\u001b[0m\u001b[0;34m\u001b[0m\u001b[0m\n\u001b[0;32m--> 446\u001b[0;31m     \u001b[0;32mreturn\u001b[0m \u001b[0m_get_backend_mod\u001b[0m\u001b[0;34m(\u001b[0m\u001b[0;34m)\u001b[0m\u001b[0;34m.\u001b[0m\u001b[0mshow\u001b[0m\u001b[0;34m(\u001b[0m\u001b[0;34m*\u001b[0m\u001b[0margs\u001b[0m\u001b[0;34m,\u001b[0m \u001b[0;34m**\u001b[0m\u001b[0mkwargs\u001b[0m\u001b[0;34m)\u001b[0m\u001b[0;34m\u001b[0m\u001b[0;34m\u001b[0m\u001b[0m\n\u001b[0m\u001b[1;32m    447\u001b[0m \u001b[0;34m\u001b[0m\u001b[0m\n\u001b[1;32m    448\u001b[0m \u001b[0;34m\u001b[0m\u001b[0m\n",
            "\u001b[0;32m/usr/local/lib/python3.10/dist-packages/matplotlib_inline/backend_inline.py\u001b[0m in \u001b[0;36mshow\u001b[0;34m(close, block)\u001b[0m\n\u001b[1;32m     88\u001b[0m     \u001b[0;32mtry\u001b[0m\u001b[0;34m:\u001b[0m\u001b[0;34m\u001b[0m\u001b[0;34m\u001b[0m\u001b[0m\n\u001b[1;32m     89\u001b[0m         \u001b[0;32mfor\u001b[0m \u001b[0mfigure_manager\u001b[0m \u001b[0;32min\u001b[0m \u001b[0mGcf\u001b[0m\u001b[0;34m.\u001b[0m\u001b[0mget_all_fig_managers\u001b[0m\u001b[0;34m(\u001b[0m\u001b[0;34m)\u001b[0m\u001b[0;34m:\u001b[0m\u001b[0;34m\u001b[0m\u001b[0;34m\u001b[0m\u001b[0m\n\u001b[0;32m---> 90\u001b[0;31m             display(\n\u001b[0m\u001b[1;32m     91\u001b[0m                 \u001b[0mfigure_manager\u001b[0m\u001b[0;34m.\u001b[0m\u001b[0mcanvas\u001b[0m\u001b[0;34m.\u001b[0m\u001b[0mfigure\u001b[0m\u001b[0;34m,\u001b[0m\u001b[0;34m\u001b[0m\u001b[0;34m\u001b[0m\u001b[0m\n\u001b[1;32m     92\u001b[0m                 \u001b[0mmetadata\u001b[0m\u001b[0;34m=\u001b[0m\u001b[0m_fetch_figure_metadata\u001b[0m\u001b[0;34m(\u001b[0m\u001b[0mfigure_manager\u001b[0m\u001b[0;34m.\u001b[0m\u001b[0mcanvas\u001b[0m\u001b[0;34m.\u001b[0m\u001b[0mfigure\u001b[0m\u001b[0;34m)\u001b[0m\u001b[0;34m\u001b[0m\u001b[0;34m\u001b[0m\u001b[0m\n",
            "\u001b[0;32m/usr/local/lib/python3.10/dist-packages/IPython/core/display.py\u001b[0m in \u001b[0;36mdisplay\u001b[0;34m(include, exclude, metadata, transient, display_id, *objs, **kwargs)\u001b[0m\n\u001b[1;32m    318\u001b[0m             \u001b[0mpublish_display_data\u001b[0m\u001b[0;34m(\u001b[0m\u001b[0mdata\u001b[0m\u001b[0;34m=\u001b[0m\u001b[0mobj\u001b[0m\u001b[0;34m,\u001b[0m \u001b[0mmetadata\u001b[0m\u001b[0;34m=\u001b[0m\u001b[0mmetadata\u001b[0m\u001b[0;34m,\u001b[0m \u001b[0;34m**\u001b[0m\u001b[0mkwargs\u001b[0m\u001b[0;34m)\u001b[0m\u001b[0;34m\u001b[0m\u001b[0;34m\u001b[0m\u001b[0m\n\u001b[1;32m    319\u001b[0m         \u001b[0;32melse\u001b[0m\u001b[0;34m:\u001b[0m\u001b[0;34m\u001b[0m\u001b[0;34m\u001b[0m\u001b[0m\n\u001b[0;32m--> 320\u001b[0;31m             \u001b[0mformat_dict\u001b[0m\u001b[0;34m,\u001b[0m \u001b[0mmd_dict\u001b[0m \u001b[0;34m=\u001b[0m \u001b[0mformat\u001b[0m\u001b[0;34m(\u001b[0m\u001b[0mobj\u001b[0m\u001b[0;34m,\u001b[0m \u001b[0minclude\u001b[0m\u001b[0;34m=\u001b[0m\u001b[0minclude\u001b[0m\u001b[0;34m,\u001b[0m \u001b[0mexclude\u001b[0m\u001b[0;34m=\u001b[0m\u001b[0mexclude\u001b[0m\u001b[0;34m)\u001b[0m\u001b[0;34m\u001b[0m\u001b[0;34m\u001b[0m\u001b[0m\n\u001b[0m\u001b[1;32m    321\u001b[0m             \u001b[0;32mif\u001b[0m \u001b[0;32mnot\u001b[0m \u001b[0mformat_dict\u001b[0m\u001b[0;34m:\u001b[0m\u001b[0;34m\u001b[0m\u001b[0;34m\u001b[0m\u001b[0m\n\u001b[1;32m    322\u001b[0m                 \u001b[0;31m# nothing to display (e.g. _ipython_display_ took over)\u001b[0m\u001b[0;34m\u001b[0m\u001b[0;34m\u001b[0m\u001b[0m\n",
            "\u001b[0;32m/usr/local/lib/python3.10/dist-packages/IPython/core/formatters.py\u001b[0m in \u001b[0;36mformat\u001b[0;34m(self, obj, include, exclude)\u001b[0m\n\u001b[1;32m    178\u001b[0m             \u001b[0mmd\u001b[0m \u001b[0;34m=\u001b[0m \u001b[0;32mNone\u001b[0m\u001b[0;34m\u001b[0m\u001b[0;34m\u001b[0m\u001b[0m\n\u001b[1;32m    179\u001b[0m             \u001b[0;32mtry\u001b[0m\u001b[0;34m:\u001b[0m\u001b[0;34m\u001b[0m\u001b[0;34m\u001b[0m\u001b[0m\n\u001b[0;32m--> 180\u001b[0;31m                 \u001b[0mdata\u001b[0m \u001b[0;34m=\u001b[0m \u001b[0mformatter\u001b[0m\u001b[0;34m(\u001b[0m\u001b[0mobj\u001b[0m\u001b[0;34m)\u001b[0m\u001b[0;34m\u001b[0m\u001b[0;34m\u001b[0m\u001b[0m\n\u001b[0m\u001b[1;32m    181\u001b[0m             \u001b[0;32mexcept\u001b[0m\u001b[0;34m:\u001b[0m\u001b[0;34m\u001b[0m\u001b[0;34m\u001b[0m\u001b[0m\n\u001b[1;32m    182\u001b[0m                 \u001b[0;31m# FIXME: log the exception\u001b[0m\u001b[0;34m\u001b[0m\u001b[0;34m\u001b[0m\u001b[0m\n",
            "\u001b[0;32m<decorator-gen-2>\u001b[0m in \u001b[0;36m__call__\u001b[0;34m(self, obj)\u001b[0m\n",
            "\u001b[0;32m/usr/local/lib/python3.10/dist-packages/IPython/core/formatters.py\u001b[0m in \u001b[0;36mcatch_format_error\u001b[0;34m(method, self, *args, **kwargs)\u001b[0m\n\u001b[1;32m    222\u001b[0m     \u001b[0;34m\"\"\"show traceback on failed format call\"\"\"\u001b[0m\u001b[0;34m\u001b[0m\u001b[0;34m\u001b[0m\u001b[0m\n\u001b[1;32m    223\u001b[0m     \u001b[0;32mtry\u001b[0m\u001b[0;34m:\u001b[0m\u001b[0;34m\u001b[0m\u001b[0;34m\u001b[0m\u001b[0m\n\u001b[0;32m--> 224\u001b[0;31m         \u001b[0mr\u001b[0m \u001b[0;34m=\u001b[0m \u001b[0mmethod\u001b[0m\u001b[0;34m(\u001b[0m\u001b[0mself\u001b[0m\u001b[0;34m,\u001b[0m \u001b[0;34m*\u001b[0m\u001b[0margs\u001b[0m\u001b[0;34m,\u001b[0m \u001b[0;34m**\u001b[0m\u001b[0mkwargs\u001b[0m\u001b[0;34m)\u001b[0m\u001b[0;34m\u001b[0m\u001b[0;34m\u001b[0m\u001b[0m\n\u001b[0m\u001b[1;32m    225\u001b[0m     \u001b[0;32mexcept\u001b[0m \u001b[0mNotImplementedError\u001b[0m\u001b[0;34m:\u001b[0m\u001b[0;34m\u001b[0m\u001b[0;34m\u001b[0m\u001b[0m\n\u001b[1;32m    226\u001b[0m         \u001b[0;31m# don't warn on NotImplementedErrors\u001b[0m\u001b[0;34m\u001b[0m\u001b[0;34m\u001b[0m\u001b[0m\n",
            "\u001b[0;32m/usr/local/lib/python3.10/dist-packages/IPython/core/formatters.py\u001b[0m in \u001b[0;36m__call__\u001b[0;34m(self, obj)\u001b[0m\n\u001b[1;32m    339\u001b[0m                 \u001b[0;32mpass\u001b[0m\u001b[0;34m\u001b[0m\u001b[0;34m\u001b[0m\u001b[0m\n\u001b[1;32m    340\u001b[0m             \u001b[0;32melse\u001b[0m\u001b[0;34m:\u001b[0m\u001b[0;34m\u001b[0m\u001b[0;34m\u001b[0m\u001b[0m\n\u001b[0;32m--> 341\u001b[0;31m                 \u001b[0;32mreturn\u001b[0m \u001b[0mprinter\u001b[0m\u001b[0;34m(\u001b[0m\u001b[0mobj\u001b[0m\u001b[0;34m)\u001b[0m\u001b[0;34m\u001b[0m\u001b[0;34m\u001b[0m\u001b[0m\n\u001b[0m\u001b[1;32m    342\u001b[0m             \u001b[0;31m# Finally look for special method names\u001b[0m\u001b[0;34m\u001b[0m\u001b[0;34m\u001b[0m\u001b[0m\n\u001b[1;32m    343\u001b[0m             \u001b[0mmethod\u001b[0m \u001b[0;34m=\u001b[0m \u001b[0mget_real_method\u001b[0m\u001b[0;34m(\u001b[0m\u001b[0mobj\u001b[0m\u001b[0;34m,\u001b[0m \u001b[0mself\u001b[0m\u001b[0;34m.\u001b[0m\u001b[0mprint_method\u001b[0m\u001b[0;34m)\u001b[0m\u001b[0;34m\u001b[0m\u001b[0;34m\u001b[0m\u001b[0m\n",
            "\u001b[0;32m/usr/local/lib/python3.10/dist-packages/IPython/core/pylabtools.py\u001b[0m in \u001b[0;36mprint_figure\u001b[0;34m(fig, fmt, bbox_inches, base64, **kwargs)\u001b[0m\n\u001b[1;32m    149\u001b[0m         \u001b[0mFigureCanvasBase\u001b[0m\u001b[0;34m(\u001b[0m\u001b[0mfig\u001b[0m\u001b[0;34m)\u001b[0m\u001b[0;34m\u001b[0m\u001b[0;34m\u001b[0m\u001b[0m\n\u001b[1;32m    150\u001b[0m \u001b[0;34m\u001b[0m\u001b[0m\n\u001b[0;32m--> 151\u001b[0;31m     \u001b[0mfig\u001b[0m\u001b[0;34m.\u001b[0m\u001b[0mcanvas\u001b[0m\u001b[0;34m.\u001b[0m\u001b[0mprint_figure\u001b[0m\u001b[0;34m(\u001b[0m\u001b[0mbytes_io\u001b[0m\u001b[0;34m,\u001b[0m \u001b[0;34m**\u001b[0m\u001b[0mkw\u001b[0m\u001b[0;34m)\u001b[0m\u001b[0;34m\u001b[0m\u001b[0;34m\u001b[0m\u001b[0m\n\u001b[0m\u001b[1;32m    152\u001b[0m     \u001b[0mdata\u001b[0m \u001b[0;34m=\u001b[0m \u001b[0mbytes_io\u001b[0m\u001b[0;34m.\u001b[0m\u001b[0mgetvalue\u001b[0m\u001b[0;34m(\u001b[0m\u001b[0;34m)\u001b[0m\u001b[0;34m\u001b[0m\u001b[0;34m\u001b[0m\u001b[0m\n\u001b[1;32m    153\u001b[0m     \u001b[0;32mif\u001b[0m \u001b[0mfmt\u001b[0m \u001b[0;34m==\u001b[0m \u001b[0;34m'svg'\u001b[0m\u001b[0;34m:\u001b[0m\u001b[0;34m\u001b[0m\u001b[0;34m\u001b[0m\u001b[0m\n",
            "\u001b[0;32m/usr/local/lib/python3.10/dist-packages/matplotlib/backend_bases.py\u001b[0m in \u001b[0;36mprint_figure\u001b[0;34m(self, filename, dpi, facecolor, edgecolor, orientation, format, bbox_inches, pad_inches, bbox_extra_artists, backend, **kwargs)\u001b[0m\n\u001b[1;32m   2364\u001b[0m                 \u001b[0;31m# force the figure dpi to 72), so we need to set it again here.\u001b[0m\u001b[0;34m\u001b[0m\u001b[0;34m\u001b[0m\u001b[0m\n\u001b[1;32m   2365\u001b[0m                 \u001b[0;32mwith\u001b[0m \u001b[0mcbook\u001b[0m\u001b[0;34m.\u001b[0m\u001b[0m_setattr_cm\u001b[0m\u001b[0;34m(\u001b[0m\u001b[0mself\u001b[0m\u001b[0;34m.\u001b[0m\u001b[0mfigure\u001b[0m\u001b[0;34m,\u001b[0m \u001b[0mdpi\u001b[0m\u001b[0;34m=\u001b[0m\u001b[0mdpi\u001b[0m\u001b[0;34m)\u001b[0m\u001b[0;34m:\u001b[0m\u001b[0;34m\u001b[0m\u001b[0;34m\u001b[0m\u001b[0m\n\u001b[0;32m-> 2366\u001b[0;31m                     result = print_method(\n\u001b[0m\u001b[1;32m   2367\u001b[0m                         \u001b[0mfilename\u001b[0m\u001b[0;34m,\u001b[0m\u001b[0;34m\u001b[0m\u001b[0;34m\u001b[0m\u001b[0m\n\u001b[1;32m   2368\u001b[0m                         \u001b[0mfacecolor\u001b[0m\u001b[0;34m=\u001b[0m\u001b[0mfacecolor\u001b[0m\u001b[0;34m,\u001b[0m\u001b[0;34m\u001b[0m\u001b[0;34m\u001b[0m\u001b[0m\n",
            "\u001b[0;32m/usr/local/lib/python3.10/dist-packages/matplotlib/backend_bases.py\u001b[0m in \u001b[0;36m<lambda>\u001b[0;34m(*args, **kwargs)\u001b[0m\n\u001b[1;32m   2230\u001b[0m                 \"bbox_inches_restore\"}\n\u001b[1;32m   2231\u001b[0m             \u001b[0mskip\u001b[0m \u001b[0;34m=\u001b[0m \u001b[0moptional_kws\u001b[0m \u001b[0;34m-\u001b[0m \u001b[0;34m{\u001b[0m\u001b[0;34m*\u001b[0m\u001b[0minspect\u001b[0m\u001b[0;34m.\u001b[0m\u001b[0msignature\u001b[0m\u001b[0;34m(\u001b[0m\u001b[0mmeth\u001b[0m\u001b[0;34m)\u001b[0m\u001b[0;34m.\u001b[0m\u001b[0mparameters\u001b[0m\u001b[0;34m}\u001b[0m\u001b[0;34m\u001b[0m\u001b[0;34m\u001b[0m\u001b[0m\n\u001b[0;32m-> 2232\u001b[0;31m             print_method = functools.wraps(meth)(lambda *args, **kwargs: meth(\n\u001b[0m\u001b[1;32m   2233\u001b[0m                 *args, **{k: v for k, v in kwargs.items() if k not in skip}))\n\u001b[1;32m   2234\u001b[0m         \u001b[0;32melse\u001b[0m\u001b[0;34m:\u001b[0m  \u001b[0;31m# Let third-parties do as they see fit.\u001b[0m\u001b[0;34m\u001b[0m\u001b[0;34m\u001b[0m\u001b[0m\n",
            "\u001b[0;32m/usr/local/lib/python3.10/dist-packages/matplotlib/backends/backend_agg.py\u001b[0m in \u001b[0;36mprint_png\u001b[0;34m(self, filename_or_obj, metadata, pil_kwargs)\u001b[0m\n\u001b[1;32m    507\u001b[0m             \u001b[0;34m*\u001b[0m\u001b[0mmetadata\u001b[0m\u001b[0;34m*\u001b[0m\u001b[0;34m,\u001b[0m \u001b[0mincluding\u001b[0m \u001b[0mthe\u001b[0m \u001b[0mdefault\u001b[0m \u001b[0;34m'Software'\u001b[0m \u001b[0mkey\u001b[0m\u001b[0;34m.\u001b[0m\u001b[0;34m\u001b[0m\u001b[0;34m\u001b[0m\u001b[0m\n\u001b[1;32m    508\u001b[0m         \"\"\"\n\u001b[0;32m--> 509\u001b[0;31m         \u001b[0mself\u001b[0m\u001b[0;34m.\u001b[0m\u001b[0m_print_pil\u001b[0m\u001b[0;34m(\u001b[0m\u001b[0mfilename_or_obj\u001b[0m\u001b[0;34m,\u001b[0m \u001b[0;34m\"png\"\u001b[0m\u001b[0;34m,\u001b[0m \u001b[0mpil_kwargs\u001b[0m\u001b[0;34m,\u001b[0m \u001b[0mmetadata\u001b[0m\u001b[0;34m)\u001b[0m\u001b[0;34m\u001b[0m\u001b[0;34m\u001b[0m\u001b[0m\n\u001b[0m\u001b[1;32m    510\u001b[0m \u001b[0;34m\u001b[0m\u001b[0m\n\u001b[1;32m    511\u001b[0m     \u001b[0;32mdef\u001b[0m \u001b[0mprint_to_buffer\u001b[0m\u001b[0;34m(\u001b[0m\u001b[0mself\u001b[0m\u001b[0;34m)\u001b[0m\u001b[0;34m:\u001b[0m\u001b[0;34m\u001b[0m\u001b[0;34m\u001b[0m\u001b[0m\n",
            "\u001b[0;32m/usr/local/lib/python3.10/dist-packages/matplotlib/backends/backend_agg.py\u001b[0m in \u001b[0;36m_print_pil\u001b[0;34m(self, filename_or_obj, fmt, pil_kwargs, metadata)\u001b[0m\n\u001b[1;32m    455\u001b[0m         *pil_kwargs* and *metadata* are forwarded).\n\u001b[1;32m    456\u001b[0m         \"\"\"\n\u001b[0;32m--> 457\u001b[0;31m         \u001b[0mFigureCanvasAgg\u001b[0m\u001b[0;34m.\u001b[0m\u001b[0mdraw\u001b[0m\u001b[0;34m(\u001b[0m\u001b[0mself\u001b[0m\u001b[0;34m)\u001b[0m\u001b[0;34m\u001b[0m\u001b[0;34m\u001b[0m\u001b[0m\n\u001b[0m\u001b[1;32m    458\u001b[0m         mpl.image.imsave(\n\u001b[1;32m    459\u001b[0m             \u001b[0mfilename_or_obj\u001b[0m\u001b[0;34m,\u001b[0m \u001b[0mself\u001b[0m\u001b[0;34m.\u001b[0m\u001b[0mbuffer_rgba\u001b[0m\u001b[0;34m(\u001b[0m\u001b[0;34m)\u001b[0m\u001b[0;34m,\u001b[0m \u001b[0mformat\u001b[0m\u001b[0;34m=\u001b[0m\u001b[0mfmt\u001b[0m\u001b[0;34m,\u001b[0m \u001b[0morigin\u001b[0m\u001b[0;34m=\u001b[0m\u001b[0;34m\"upper\"\u001b[0m\u001b[0;34m,\u001b[0m\u001b[0;34m\u001b[0m\u001b[0;34m\u001b[0m\u001b[0m\n",
            "\u001b[0;32m/usr/local/lib/python3.10/dist-packages/matplotlib/backends/backend_agg.py\u001b[0m in \u001b[0;36mdraw\u001b[0;34m(self)\u001b[0m\n\u001b[1;32m    398\u001b[0m              (self.toolbar._wait_cursor_for_draw_cm() if self.toolbar\n\u001b[1;32m    399\u001b[0m               else nullcontext()):\n\u001b[0;32m--> 400\u001b[0;31m             \u001b[0mself\u001b[0m\u001b[0;34m.\u001b[0m\u001b[0mfigure\u001b[0m\u001b[0;34m.\u001b[0m\u001b[0mdraw\u001b[0m\u001b[0;34m(\u001b[0m\u001b[0mself\u001b[0m\u001b[0;34m.\u001b[0m\u001b[0mrenderer\u001b[0m\u001b[0;34m)\u001b[0m\u001b[0;34m\u001b[0m\u001b[0;34m\u001b[0m\u001b[0m\n\u001b[0m\u001b[1;32m    401\u001b[0m             \u001b[0;31m# A GUI class may be need to update a window using this draw, so\u001b[0m\u001b[0;34m\u001b[0m\u001b[0;34m\u001b[0m\u001b[0m\n\u001b[1;32m    402\u001b[0m             \u001b[0;31m# don't forget to call the superclass.\u001b[0m\u001b[0;34m\u001b[0m\u001b[0;34m\u001b[0m\u001b[0m\n",
            "\u001b[0;32m/usr/local/lib/python3.10/dist-packages/matplotlib/artist.py\u001b[0m in \u001b[0;36mdraw_wrapper\u001b[0;34m(artist, renderer, *args, **kwargs)\u001b[0m\n\u001b[1;32m     93\u001b[0m     \u001b[0;34m@\u001b[0m\u001b[0mwraps\u001b[0m\u001b[0;34m(\u001b[0m\u001b[0mdraw\u001b[0m\u001b[0;34m)\u001b[0m\u001b[0;34m\u001b[0m\u001b[0;34m\u001b[0m\u001b[0m\n\u001b[1;32m     94\u001b[0m     \u001b[0;32mdef\u001b[0m \u001b[0mdraw_wrapper\u001b[0m\u001b[0;34m(\u001b[0m\u001b[0martist\u001b[0m\u001b[0;34m,\u001b[0m \u001b[0mrenderer\u001b[0m\u001b[0;34m,\u001b[0m \u001b[0;34m*\u001b[0m\u001b[0margs\u001b[0m\u001b[0;34m,\u001b[0m \u001b[0;34m**\u001b[0m\u001b[0mkwargs\u001b[0m\u001b[0;34m)\u001b[0m\u001b[0;34m:\u001b[0m\u001b[0;34m\u001b[0m\u001b[0;34m\u001b[0m\u001b[0m\n\u001b[0;32m---> 95\u001b[0;31m         \u001b[0mresult\u001b[0m \u001b[0;34m=\u001b[0m \u001b[0mdraw\u001b[0m\u001b[0;34m(\u001b[0m\u001b[0martist\u001b[0m\u001b[0;34m,\u001b[0m \u001b[0mrenderer\u001b[0m\u001b[0;34m,\u001b[0m \u001b[0;34m*\u001b[0m\u001b[0margs\u001b[0m\u001b[0;34m,\u001b[0m \u001b[0;34m**\u001b[0m\u001b[0mkwargs\u001b[0m\u001b[0;34m)\u001b[0m\u001b[0;34m\u001b[0m\u001b[0;34m\u001b[0m\u001b[0m\n\u001b[0m\u001b[1;32m     96\u001b[0m         \u001b[0;32mif\u001b[0m \u001b[0mrenderer\u001b[0m\u001b[0;34m.\u001b[0m\u001b[0m_rasterizing\u001b[0m\u001b[0;34m:\u001b[0m\u001b[0;34m\u001b[0m\u001b[0;34m\u001b[0m\u001b[0m\n\u001b[1;32m     97\u001b[0m             \u001b[0mrenderer\u001b[0m\u001b[0;34m.\u001b[0m\u001b[0mstop_rasterizing\u001b[0m\u001b[0;34m(\u001b[0m\u001b[0;34m)\u001b[0m\u001b[0;34m\u001b[0m\u001b[0;34m\u001b[0m\u001b[0m\n",
            "\u001b[0;32m/usr/local/lib/python3.10/dist-packages/matplotlib/artist.py\u001b[0m in \u001b[0;36mdraw_wrapper\u001b[0;34m(artist, renderer)\u001b[0m\n\u001b[1;32m     70\u001b[0m                 \u001b[0mrenderer\u001b[0m\u001b[0;34m.\u001b[0m\u001b[0mstart_filter\u001b[0m\u001b[0;34m(\u001b[0m\u001b[0;34m)\u001b[0m\u001b[0;34m\u001b[0m\u001b[0;34m\u001b[0m\u001b[0m\n\u001b[1;32m     71\u001b[0m \u001b[0;34m\u001b[0m\u001b[0m\n\u001b[0;32m---> 72\u001b[0;31m             \u001b[0;32mreturn\u001b[0m \u001b[0mdraw\u001b[0m\u001b[0;34m(\u001b[0m\u001b[0martist\u001b[0m\u001b[0;34m,\u001b[0m \u001b[0mrenderer\u001b[0m\u001b[0;34m)\u001b[0m\u001b[0;34m\u001b[0m\u001b[0;34m\u001b[0m\u001b[0m\n\u001b[0m\u001b[1;32m     73\u001b[0m         \u001b[0;32mfinally\u001b[0m\u001b[0;34m:\u001b[0m\u001b[0;34m\u001b[0m\u001b[0;34m\u001b[0m\u001b[0m\n\u001b[1;32m     74\u001b[0m             \u001b[0;32mif\u001b[0m \u001b[0martist\u001b[0m\u001b[0;34m.\u001b[0m\u001b[0mget_agg_filter\u001b[0m\u001b[0;34m(\u001b[0m\u001b[0;34m)\u001b[0m \u001b[0;32mis\u001b[0m \u001b[0;32mnot\u001b[0m \u001b[0;32mNone\u001b[0m\u001b[0;34m:\u001b[0m\u001b[0;34m\u001b[0m\u001b[0;34m\u001b[0m\u001b[0m\n",
            "\u001b[0;32m/usr/local/lib/python3.10/dist-packages/matplotlib/figure.py\u001b[0m in \u001b[0;36mdraw\u001b[0;34m(self, renderer)\u001b[0m\n\u001b[1;32m   3138\u001b[0m \u001b[0;34m\u001b[0m\u001b[0m\n\u001b[1;32m   3139\u001b[0m             \u001b[0mself\u001b[0m\u001b[0;34m.\u001b[0m\u001b[0mpatch\u001b[0m\u001b[0;34m.\u001b[0m\u001b[0mdraw\u001b[0m\u001b[0;34m(\u001b[0m\u001b[0mrenderer\u001b[0m\u001b[0;34m)\u001b[0m\u001b[0;34m\u001b[0m\u001b[0;34m\u001b[0m\u001b[0m\n\u001b[0;32m-> 3140\u001b[0;31m             mimage._draw_list_compositing_images(\n\u001b[0m\u001b[1;32m   3141\u001b[0m                 renderer, self, artists, self.suppressComposite)\n\u001b[1;32m   3142\u001b[0m \u001b[0;34m\u001b[0m\u001b[0m\n",
            "\u001b[0;32m/usr/local/lib/python3.10/dist-packages/matplotlib/image.py\u001b[0m in \u001b[0;36m_draw_list_compositing_images\u001b[0;34m(renderer, parent, artists, suppress_composite)\u001b[0m\n\u001b[1;32m    129\u001b[0m     \u001b[0;32mif\u001b[0m \u001b[0mnot_composite\u001b[0m \u001b[0;32mor\u001b[0m \u001b[0;32mnot\u001b[0m \u001b[0mhas_images\u001b[0m\u001b[0;34m:\u001b[0m\u001b[0;34m\u001b[0m\u001b[0;34m\u001b[0m\u001b[0m\n\u001b[1;32m    130\u001b[0m         \u001b[0;32mfor\u001b[0m \u001b[0ma\u001b[0m \u001b[0;32min\u001b[0m \u001b[0martists\u001b[0m\u001b[0;34m:\u001b[0m\u001b[0;34m\u001b[0m\u001b[0;34m\u001b[0m\u001b[0m\n\u001b[0;32m--> 131\u001b[0;31m             \u001b[0ma\u001b[0m\u001b[0;34m.\u001b[0m\u001b[0mdraw\u001b[0m\u001b[0;34m(\u001b[0m\u001b[0mrenderer\u001b[0m\u001b[0;34m)\u001b[0m\u001b[0;34m\u001b[0m\u001b[0;34m\u001b[0m\u001b[0m\n\u001b[0m\u001b[1;32m    132\u001b[0m     \u001b[0;32melse\u001b[0m\u001b[0;34m:\u001b[0m\u001b[0;34m\u001b[0m\u001b[0;34m\u001b[0m\u001b[0m\n\u001b[1;32m    133\u001b[0m         \u001b[0;31m# Composite any adjacent images together\u001b[0m\u001b[0;34m\u001b[0m\u001b[0;34m\u001b[0m\u001b[0m\n",
            "\u001b[0;32m/usr/local/lib/python3.10/dist-packages/matplotlib/artist.py\u001b[0m in \u001b[0;36mdraw_wrapper\u001b[0;34m(artist, renderer)\u001b[0m\n\u001b[1;32m     70\u001b[0m                 \u001b[0mrenderer\u001b[0m\u001b[0;34m.\u001b[0m\u001b[0mstart_filter\u001b[0m\u001b[0;34m(\u001b[0m\u001b[0;34m)\u001b[0m\u001b[0;34m\u001b[0m\u001b[0;34m\u001b[0m\u001b[0m\n\u001b[1;32m     71\u001b[0m \u001b[0;34m\u001b[0m\u001b[0m\n\u001b[0;32m---> 72\u001b[0;31m             \u001b[0;32mreturn\u001b[0m \u001b[0mdraw\u001b[0m\u001b[0;34m(\u001b[0m\u001b[0martist\u001b[0m\u001b[0;34m,\u001b[0m \u001b[0mrenderer\u001b[0m\u001b[0;34m)\u001b[0m\u001b[0;34m\u001b[0m\u001b[0;34m\u001b[0m\u001b[0m\n\u001b[0m\u001b[1;32m     73\u001b[0m         \u001b[0;32mfinally\u001b[0m\u001b[0;34m:\u001b[0m\u001b[0;34m\u001b[0m\u001b[0;34m\u001b[0m\u001b[0m\n\u001b[1;32m     74\u001b[0m             \u001b[0;32mif\u001b[0m \u001b[0martist\u001b[0m\u001b[0;34m.\u001b[0m\u001b[0mget_agg_filter\u001b[0m\u001b[0;34m(\u001b[0m\u001b[0;34m)\u001b[0m \u001b[0;32mis\u001b[0m \u001b[0;32mnot\u001b[0m \u001b[0;32mNone\u001b[0m\u001b[0;34m:\u001b[0m\u001b[0;34m\u001b[0m\u001b[0;34m\u001b[0m\u001b[0m\n",
            "\u001b[0;32m/usr/local/lib/python3.10/dist-packages/matplotlib/axes/_base.py\u001b[0m in \u001b[0;36mdraw\u001b[0;34m(self, renderer)\u001b[0m\n\u001b[1;32m   3062\u001b[0m             \u001b[0m_draw_rasterized\u001b[0m\u001b[0;34m(\u001b[0m\u001b[0mself\u001b[0m\u001b[0;34m.\u001b[0m\u001b[0mfigure\u001b[0m\u001b[0;34m,\u001b[0m \u001b[0martists_rasterized\u001b[0m\u001b[0;34m,\u001b[0m \u001b[0mrenderer\u001b[0m\u001b[0;34m)\u001b[0m\u001b[0;34m\u001b[0m\u001b[0;34m\u001b[0m\u001b[0m\n\u001b[1;32m   3063\u001b[0m \u001b[0;34m\u001b[0m\u001b[0m\n\u001b[0;32m-> 3064\u001b[0;31m         mimage._draw_list_compositing_images(\n\u001b[0m\u001b[1;32m   3065\u001b[0m             renderer, self, artists, self.figure.suppressComposite)\n\u001b[1;32m   3066\u001b[0m \u001b[0;34m\u001b[0m\u001b[0m\n",
            "\u001b[0;32m/usr/local/lib/python3.10/dist-packages/matplotlib/image.py\u001b[0m in \u001b[0;36m_draw_list_compositing_images\u001b[0;34m(renderer, parent, artists, suppress_composite)\u001b[0m\n\u001b[1;32m    129\u001b[0m     \u001b[0;32mif\u001b[0m \u001b[0mnot_composite\u001b[0m \u001b[0;32mor\u001b[0m \u001b[0;32mnot\u001b[0m \u001b[0mhas_images\u001b[0m\u001b[0;34m:\u001b[0m\u001b[0;34m\u001b[0m\u001b[0;34m\u001b[0m\u001b[0m\n\u001b[1;32m    130\u001b[0m         \u001b[0;32mfor\u001b[0m \u001b[0ma\u001b[0m \u001b[0;32min\u001b[0m \u001b[0martists\u001b[0m\u001b[0;34m:\u001b[0m\u001b[0;34m\u001b[0m\u001b[0;34m\u001b[0m\u001b[0m\n\u001b[0;32m--> 131\u001b[0;31m             \u001b[0ma\u001b[0m\u001b[0;34m.\u001b[0m\u001b[0mdraw\u001b[0m\u001b[0;34m(\u001b[0m\u001b[0mrenderer\u001b[0m\u001b[0;34m)\u001b[0m\u001b[0;34m\u001b[0m\u001b[0;34m\u001b[0m\u001b[0m\n\u001b[0m\u001b[1;32m    132\u001b[0m     \u001b[0;32melse\u001b[0m\u001b[0;34m:\u001b[0m\u001b[0;34m\u001b[0m\u001b[0;34m\u001b[0m\u001b[0m\n\u001b[1;32m    133\u001b[0m         \u001b[0;31m# Composite any adjacent images together\u001b[0m\u001b[0;34m\u001b[0m\u001b[0;34m\u001b[0m\u001b[0m\n",
            "\u001b[0;32m/usr/local/lib/python3.10/dist-packages/matplotlib/artist.py\u001b[0m in \u001b[0;36mdraw_wrapper\u001b[0;34m(artist, renderer)\u001b[0m\n\u001b[1;32m     70\u001b[0m                 \u001b[0mrenderer\u001b[0m\u001b[0;34m.\u001b[0m\u001b[0mstart_filter\u001b[0m\u001b[0;34m(\u001b[0m\u001b[0;34m)\u001b[0m\u001b[0;34m\u001b[0m\u001b[0;34m\u001b[0m\u001b[0m\n\u001b[1;32m     71\u001b[0m \u001b[0;34m\u001b[0m\u001b[0m\n\u001b[0;32m---> 72\u001b[0;31m             \u001b[0;32mreturn\u001b[0m \u001b[0mdraw\u001b[0m\u001b[0;34m(\u001b[0m\u001b[0martist\u001b[0m\u001b[0;34m,\u001b[0m \u001b[0mrenderer\u001b[0m\u001b[0;34m)\u001b[0m\u001b[0;34m\u001b[0m\u001b[0;34m\u001b[0m\u001b[0m\n\u001b[0m\u001b[1;32m     73\u001b[0m         \u001b[0;32mfinally\u001b[0m\u001b[0;34m:\u001b[0m\u001b[0;34m\u001b[0m\u001b[0;34m\u001b[0m\u001b[0m\n\u001b[1;32m     74\u001b[0m             \u001b[0;32mif\u001b[0m \u001b[0martist\u001b[0m\u001b[0;34m.\u001b[0m\u001b[0mget_agg_filter\u001b[0m\u001b[0;34m(\u001b[0m\u001b[0;34m)\u001b[0m \u001b[0;32mis\u001b[0m \u001b[0;32mnot\u001b[0m \u001b[0;32mNone\u001b[0m\u001b[0;34m:\u001b[0m\u001b[0;34m\u001b[0m\u001b[0;34m\u001b[0m\u001b[0m\n",
            "\u001b[0;32m/usr/local/lib/python3.10/dist-packages/matplotlib/collections.py\u001b[0m in \u001b[0;36mdraw\u001b[0;34m(self, renderer)\u001b[0m\n\u001b[1;32m    970\u001b[0m     \u001b[0;32mdef\u001b[0m \u001b[0mdraw\u001b[0m\u001b[0;34m(\u001b[0m\u001b[0mself\u001b[0m\u001b[0;34m,\u001b[0m \u001b[0mrenderer\u001b[0m\u001b[0;34m)\u001b[0m\u001b[0;34m:\u001b[0m\u001b[0;34m\u001b[0m\u001b[0;34m\u001b[0m\u001b[0m\n\u001b[1;32m    971\u001b[0m         \u001b[0mself\u001b[0m\u001b[0;34m.\u001b[0m\u001b[0mset_sizes\u001b[0m\u001b[0;34m(\u001b[0m\u001b[0mself\u001b[0m\u001b[0;34m.\u001b[0m\u001b[0m_sizes\u001b[0m\u001b[0;34m,\u001b[0m \u001b[0mself\u001b[0m\u001b[0;34m.\u001b[0m\u001b[0mfigure\u001b[0m\u001b[0;34m.\u001b[0m\u001b[0mdpi\u001b[0m\u001b[0;34m)\u001b[0m\u001b[0;34m\u001b[0m\u001b[0;34m\u001b[0m\u001b[0m\n\u001b[0;32m--> 972\u001b[0;31m         \u001b[0msuper\u001b[0m\u001b[0;34m(\u001b[0m\u001b[0;34m)\u001b[0m\u001b[0;34m.\u001b[0m\u001b[0mdraw\u001b[0m\u001b[0;34m(\u001b[0m\u001b[0mrenderer\u001b[0m\u001b[0;34m)\u001b[0m\u001b[0;34m\u001b[0m\u001b[0;34m\u001b[0m\u001b[0m\n\u001b[0m\u001b[1;32m    973\u001b[0m \u001b[0;34m\u001b[0m\u001b[0m\n\u001b[1;32m    974\u001b[0m \u001b[0;34m\u001b[0m\u001b[0m\n",
            "\u001b[0;32m/usr/local/lib/python3.10/dist-packages/matplotlib/artist.py\u001b[0m in \u001b[0;36mdraw_wrapper\u001b[0;34m(artist, renderer)\u001b[0m\n\u001b[1;32m     70\u001b[0m                 \u001b[0mrenderer\u001b[0m\u001b[0;34m.\u001b[0m\u001b[0mstart_filter\u001b[0m\u001b[0;34m(\u001b[0m\u001b[0;34m)\u001b[0m\u001b[0;34m\u001b[0m\u001b[0;34m\u001b[0m\u001b[0m\n\u001b[1;32m     71\u001b[0m \u001b[0;34m\u001b[0m\u001b[0m\n\u001b[0;32m---> 72\u001b[0;31m             \u001b[0;32mreturn\u001b[0m \u001b[0mdraw\u001b[0m\u001b[0;34m(\u001b[0m\u001b[0martist\u001b[0m\u001b[0;34m,\u001b[0m \u001b[0mrenderer\u001b[0m\u001b[0;34m)\u001b[0m\u001b[0;34m\u001b[0m\u001b[0;34m\u001b[0m\u001b[0m\n\u001b[0m\u001b[1;32m     73\u001b[0m         \u001b[0;32mfinally\u001b[0m\u001b[0;34m:\u001b[0m\u001b[0;34m\u001b[0m\u001b[0;34m\u001b[0m\u001b[0m\n\u001b[1;32m     74\u001b[0m             \u001b[0;32mif\u001b[0m \u001b[0martist\u001b[0m\u001b[0;34m.\u001b[0m\u001b[0mget_agg_filter\u001b[0m\u001b[0;34m(\u001b[0m\u001b[0;34m)\u001b[0m \u001b[0;32mis\u001b[0m \u001b[0;32mnot\u001b[0m \u001b[0;32mNone\u001b[0m\u001b[0;34m:\u001b[0m\u001b[0;34m\u001b[0m\u001b[0;34m\u001b[0m\u001b[0m\n",
            "\u001b[0;32m/usr/local/lib/python3.10/dist-packages/matplotlib/collections.py\u001b[0m in \u001b[0;36mdraw\u001b[0;34m(self, renderer)\u001b[0m\n\u001b[1;32m    407\u001b[0m                 mpath.Path(offsets), offset_trf, tuple(facecolors[0]))\n\u001b[1;32m    408\u001b[0m         \u001b[0;32melse\u001b[0m\u001b[0;34m:\u001b[0m\u001b[0;34m\u001b[0m\u001b[0;34m\u001b[0m\u001b[0m\n\u001b[0;32m--> 409\u001b[0;31m             renderer.draw_path_collection(\n\u001b[0m\u001b[1;32m    410\u001b[0m                 \u001b[0mgc\u001b[0m\u001b[0;34m,\u001b[0m \u001b[0mtransform\u001b[0m\u001b[0;34m.\u001b[0m\u001b[0mfrozen\u001b[0m\u001b[0;34m(\u001b[0m\u001b[0;34m)\u001b[0m\u001b[0;34m,\u001b[0m \u001b[0mpaths\u001b[0m\u001b[0;34m,\u001b[0m\u001b[0;34m\u001b[0m\u001b[0;34m\u001b[0m\u001b[0m\n\u001b[1;32m    411\u001b[0m                 \u001b[0mself\u001b[0m\u001b[0;34m.\u001b[0m\u001b[0mget_transforms\u001b[0m\u001b[0;34m(\u001b[0m\u001b[0;34m)\u001b[0m\u001b[0;34m,\u001b[0m \u001b[0moffsets\u001b[0m\u001b[0;34m,\u001b[0m \u001b[0moffset_trf\u001b[0m\u001b[0;34m,\u001b[0m\u001b[0;34m\u001b[0m\u001b[0;34m\u001b[0m\u001b[0m\n",
            "\u001b[0;32m/usr/local/lib/python3.10/dist-packages/matplotlib/path.py\u001b[0m in \u001b[0;36mvertices\u001b[0;34m(self)\u001b[0m\n\u001b[1;32m    209\u001b[0m         )\n\u001b[1;32m    210\u001b[0m \u001b[0;34m\u001b[0m\u001b[0m\n\u001b[0;32m--> 211\u001b[0;31m     \u001b[0;34m@\u001b[0m\u001b[0mproperty\u001b[0m\u001b[0;34m\u001b[0m\u001b[0;34m\u001b[0m\u001b[0m\n\u001b[0m\u001b[1;32m    212\u001b[0m     \u001b[0;32mdef\u001b[0m \u001b[0mvertices\u001b[0m\u001b[0;34m(\u001b[0m\u001b[0mself\u001b[0m\u001b[0;34m)\u001b[0m\u001b[0;34m:\u001b[0m\u001b[0;34m\u001b[0m\u001b[0;34m\u001b[0m\u001b[0m\n\u001b[1;32m    213\u001b[0m         \"\"\"\n",
            "\u001b[0;31mKeyboardInterrupt\u001b[0m: "
          ]
        }
      ]
    },
    {
      "cell_type": "code",
      "source": [
        "# Menghitung jumlah perjalanan per pengemudi dan kota\n",
        "jumlah_perjalanan_per_pengemudi_kota = data_merged.groupby(['name', 'driver_id']).size().unstack(fill_value=0)\n",
        "print(\"\\nJumlah Perjalanan per Pengemudi dan Kota:\")\n",
        "print(jumlah_perjalanan_per_pengemudi_kota)\n"
      ],
      "metadata": {
        "collapsed": true,
        "id": "9l_6T50ocDlc"
      },
      "execution_count": null,
      "outputs": []
    },
    {
      "cell_type": "code",
      "source": [
        "# Menghitung frekuensi jenis penumpang per kota\n",
        "frekuensi_jenis_penumpang_kota = data_merged.groupby(['name', 'passenger_id']).size().unstack(fill_value=0)\n",
        "print(\"\\nFrekuensi Jenis Penumpang per Kota:\")\n",
        "print(frekuensi_jenis_penumpang_kota)\n"
      ],
      "metadata": {
        "collapsed": true,
        "id": "krNqzX6ZcHYn"
      },
      "execution_count": null,
      "outputs": []
    },
    {
      "cell_type": "code",
      "source": [
        "# Menghitung jumlah total penumpang per kota\n",
        "total_penumpang_per_kota = data_merged.groupby('name').apply(lambda x: x['passenger_id'].nunique())\n",
        "print(\"\\nTotal Jumlah Penumpang per Kota:\")\n",
        "print(total_penumpang_per_kota)\n"
      ],
      "metadata": {
        "id": "52rDBCYIc4Rr"
      },
      "execution_count": null,
      "outputs": []
    },
    {
      "cell_type": "code",
      "source": [
        "# Menghitung frekuensi penumpang di setiap kota\n",
        "frekuensi_penumpang_per_kota = data_merged.groupby('name')['passenger_id'].value_counts().unstack(fill_value=0)\n",
        "\n",
        "# Menampilkan penumpang dengan frekuensi tertinggi di setiap kota\n",
        "penumpang_tertinggi_per_kota = frekuensi_penumpang_per_kota.idxmax(axis=1)\n",
        "print(\"\\nPenumpang dengan Frekuensi Tertinggi per Kota:\")\n",
        "print(penumpang_tertinggi_per_kota)\n"
      ],
      "metadata": {
        "id": "GItAtZ82c5SN"
      },
      "execution_count": null,
      "outputs": []
    },
    {
      "cell_type": "code",
      "source": [
        "# Menghitung frekuensi rata-rata penumpang per kota\n",
        "rata_frekuensi_per_kota = frekuensi_penumpang_per_kota.mean()\n",
        "print(\"\\nFrekuensi Rata-rata Penumpang per Kota:\")\n",
        "print(rata_frekuensi_per_kota)\n"
      ],
      "metadata": {
        "id": "BqGjYhGCc8va"
      },
      "execution_count": null,
      "outputs": []
    },
    {
      "cell_type": "code",
      "source": [
        "# Menghitung proporsi penumpang aktif di setiap kota\n",
        "penumpang_aktif = data_merged.groupby('name')['passenger_id'].value_counts()\n",
        "penumpang_aktif_per_kota = penumpang_aktif[penumpang_aktif > 1].groupby(level=0).count() / total_penumpang_per_kota\n",
        "print(\"\\nProporsi Penumpang Aktif per Kota:\")\n",
        "print(penumpang_aktif_per_kota)\n"
      ],
      "metadata": {
        "id": "8Ag_pEPnc-98"
      },
      "execution_count": null,
      "outputs": []
    },
    {
      "cell_type": "code",
      "source": [
        "# Mengidentifikasi penumpang baru dan tetap\n",
        "penumpang_baru = data_merged.groupby('name')['passenger_id'].value_counts().reset_index(name='count')\n",
        "penumpang_baru = penumpang_baru[penumpang_baru['count'] == 1]\n",
        "penumpang_tetap = data_merged.groupby('name')['passenger_id'].value_counts().reset_index(name='count')\n",
        "penumpang_tetap = penumpang_tetap[penumpang_tetap['count'] > 1]\n",
        "\n",
        "# Menghitung jumlah penumpang baru dan tetap per kota\n",
        "jumlah_penumpang_baru = penumpang_baru.groupby('name').size()\n",
        "jumlah_penumpang_tetap = penumpang_tetap.groupby('name').size()\n",
        "\n",
        "print(\"\\nJumlah Penumpang Baru per Kota:\")\n",
        "print(jumlah_penumpang_baru)\n",
        "print(\"\\nJumlah Penumpang Tetap per Kota:\")\n",
        "print(jumlah_penumpang_tetap)\n"
      ],
      "metadata": {
        "id": "J4ssrzJCdB0V"
      },
      "execution_count": null,
      "outputs": []
    },
    {
      "cell_type": "code",
      "source": [
        "# Menampilkan penumpang dengan frekuensi terendah di setiap kota\n",
        "penumpang_terendah_per_kota = frekuensi_penumpang_per_kota.idxmin(axis=1)\n",
        "print(\"\\nPenumpang dengan Frekuensi Terendah per Kota:\")\n",
        "print(penumpang_terendah_per_kota)\n"
      ],
      "metadata": {
        "id": "pemKrVesdFXI"
      },
      "execution_count": null,
      "outputs": []
    },
    {
      "cell_type": "code",
      "source": [
        "# Menghitung rata-rata jumlah perjalanan per penumpang per kota\n",
        "rata_perjalanan_per_penumpang = data_merged.groupby('name')['passenger_id'].value_counts().groupby(level=0).mean()\n",
        "print(\"\\nRata-rata Jumlah Perjalanan per Penumpang per Kota:\")\n",
        "print(rata_perjalanan_per_penumpang)\n"
      ],
      "metadata": {
        "id": "J7mBgvQ4dHZW"
      },
      "execution_count": null,
      "outputs": []
    },
    {
      "cell_type": "code",
      "source": [
        "# Menghitung jumlah total penumpang per kota\n",
        "jumlah_total_penumpang_per_kota = data_merged['name'].value_counts()\n",
        "print(\"\\nPerbandingan Jumlah Penumpang Berdasarkan Kota:\")\n",
        "print(jumlah_total_penumpang_per_kota)\n"
      ],
      "metadata": {
        "id": "fU_veymqdNFm"
      },
      "execution_count": null,
      "outputs": []
    },
    {
      "cell_type": "code",
      "source": [
        "import matplotlib.pyplot as plt\n",
        "\n",
        "# Diagram batang jumlah penumpang per kota\n",
        "plt.figure(figsize=(10, 6))\n",
        "total_penumpang_per_kota.plot(kind='bar', color='skyblue')\n",
        "plt.title('Jumlah Penumpang per Kota')\n",
        "plt.xlabel('Kota')\n",
        "plt.ylabel('Jumlah Penumpang')\n",
        "plt.xticks(rotation=45)\n",
        "plt.show()\n"
      ],
      "metadata": {
        "id": "kporREEAdO2-"
      },
      "execution_count": null,
      "outputs": []
    },
    {
      "cell_type": "code",
      "source": [
        "# Diagram batang penumpang dengan frekuensi tertinggi per kota\n",
        "plt.figure(figsize=(12, 6))\n",
        "penumpang_tertinggi_per_kota.value_counts().plot(kind='bar', color='lightgreen')\n",
        "plt.title('Penumpang dengan Frekuensi Tertinggi per Kota')\n",
        "plt.xlabel('Penumpang')\n",
        "plt.ylabel('Jumlah Kota')\n",
        "plt.xticks(rotation=90)\n",
        "plt.show()\n"
      ],
      "metadata": {
        "id": "5L4ieuwPddtl"
      },
      "execution_count": null,
      "outputs": []
    },
    {
      "cell_type": "code",
      "source": [
        "# Diagram batang frekuensi rata-rata penumpang per kota\n",
        "plt.figure(figsize=(10, 6))\n",
        "rata_frekuensi_per_kota.plot(kind='bar', color='salmon')\n",
        "plt.title('Frekuensi Rata-rata Penumpang per Kota')\n",
        "plt.xlabel('Kota')\n",
        "plt.ylabel('Frekuensi Rata-rata')\n",
        "plt.xticks(rotation=45)\n",
        "plt.show()\n"
      ],
      "metadata": {
        "collapsed": true,
        "id": "BThUmbXCdhVd"
      },
      "execution_count": null,
      "outputs": []
    },
    {
      "cell_type": "code",
      "source": [
        "# Diagram pai proporsi penumpang aktif per kota\n",
        "plt.figure(figsize=(8, 8))\n",
        "penumpang_aktif_per_kota.plot(kind='pie', autopct='%1.1f%%', colors=plt.cm.Paired(range(len(penumpang_aktif_per_kota))))\n",
        "plt.title('Proporsi Penumpang Aktif per Kota')\n",
        "plt.ylabel('')\n",
        "plt.show()\n"
      ],
      "metadata": {
        "collapsed": true,
        "id": "tBr6h92gdkx4"
      },
      "execution_count": null,
      "outputs": []
    },
    {
      "cell_type": "code",
      "source": [
        "# Menggabungkan data jumlah penumpang baru dan tetap\n",
        "jumlah_penumpang_per_kota = pd.DataFrame({\n",
        "    'Penumpang Baru': jumlah_penumpang_baru,\n",
        "    'Penumpang Tetap': jumlah_penumpang_tetap\n",
        "}).fillna(0)\n",
        "\n",
        "# Diagram batang perbandingan jumlah penumpang baru vs tetap per kota\n",
        "plt.figure(figsize=(12, 6))\n",
        "jumlah_penumpang_per_kota.plot(kind='bar', stacked=True)\n",
        "plt.title('Jumlah Penumpang Baru vs Penumpang Tetap per Kota')\n",
        "plt.xlabel('Kota')\n",
        "plt.ylabel('Jumlah Penumpang')\n",
        "plt.xticks(rotation=45)\n",
        "plt.show()\n"
      ],
      "metadata": {
        "collapsed": true,
        "id": "O24Jixrfdno0"
      },
      "execution_count": null,
      "outputs": []
    },
    {
      "cell_type": "code",
      "source": [
        "# Diagram batang penumpang dengan frekuensi terendah per kota\n",
        "plt.figure(figsize=(12, 6))\n",
        "penumpang_terendah_per_kota.value_counts().plot(kind='bar', color='purple')\n",
        "plt.title('Penumpang dengan Frekuensi Terendah per Kota')\n",
        "plt.xlabel('Penumpang')\n",
        "plt.ylabel('Jumlah Kota')\n",
        "plt.xticks(rotation=90)\n",
        "plt.show()\n"
      ],
      "metadata": {
        "id": "noThkqHFdq-W"
      },
      "execution_count": null,
      "outputs": []
    },
    {
      "cell_type": "code",
      "source": [
        "# Diagram batang rata-rata jumlah perjalanan per penumpang per kota\n",
        "plt.figure(figsize=(10, 6))\n",
        "rata_perjalanan_per_penumpang.plot(kind='bar', color='orange')\n",
        "plt.title('Rata-rata Jumlah Perjalanan per Penumpang per Kota')\n",
        "plt.xlabel('Kota')\n",
        "plt.ylabel('Rata-rata Jumlah Perjalanan')\n",
        "plt.xticks(rotation=45)\n",
        "plt.show()\n"
      ],
      "metadata": {
        "id": "AtD7vWu_dtg0"
      },
      "execution_count": null,
      "outputs": []
    },
    {
      "cell_type": "code",
      "source": [
        "# Mengonversi kolom 'call_time' dan 'finish_time' ke format datetime\n",
        "data_merged['call_time'] = pd.to_datetime(data_merged['call_time'], errors='coerce')\n",
        "data_merged['finish_time'] = pd.to_datetime(data_merged['finish_time'], errors='coerce')\n",
        "\n",
        "# Memeriksa apakah konversi berhasil\n",
        "print(data_merged[['call_time', 'finish_time']].head())\n"
      ],
      "metadata": {
        "collapsed": true,
        "id": "kBB3hQL-cJyG"
      },
      "execution_count": null,
      "outputs": []
    },
    {
      "cell_type": "code",
      "source": [
        "# Menghitung durasi trip\n",
        "data_merged['trip_duration'] = (data_merged['finish_time'] - data_merged['call_time']).dt.total_seconds() / 60  # dalam menit\n",
        "\n",
        "# Menampilkan beberapa baris pertama dari kolom baru 'trip_duration'\n",
        "print(data_merged[['trip_duration']].head())\n"
      ],
      "metadata": {
        "id": "3LnyEVkwchbt"
      },
      "execution_count": null,
      "outputs": []
    },
    {
      "cell_type": "code",
      "source": [
        "# Menghitung waktu tunggu antara call_time dan finish_time\n",
        "data_merged['waiting_time'] = (data_merged['finish_time'] - data_merged['call_time']).dt.total_seconds() / 60  # dalam menit\n",
        "\n",
        "# Menampilkan waktu tunggu rata-rata\n",
        "waktu_tunggu_rata_rata = data_merged['waiting_time'].mean()\n",
        "print(\"Waktu tunggu rata-rata pengemudi (menit):\", waktu_tunggu_rata_rata)\n"
      ],
      "metadata": {
        "id": "DIhLV3NAcj26"
      },
      "execution_count": null,
      "outputs": []
    },
    {
      "cell_type": "code",
      "source": [
        "# Memeriksa apakah ada nilai NaT dalam kolom datetime\n",
        "print(data_merged[['call_time', 'finish_time']].isna().sum())\n"
      ],
      "metadata": {
        "id": "B9KXJc9mcmiX"
      },
      "execution_count": null,
      "outputs": []
    },
    {
      "cell_type": "code",
      "source": [],
      "metadata": {
        "id": "or9zexmVcpF_"
      },
      "execution_count": null,
      "outputs": []
    }
  ]
}